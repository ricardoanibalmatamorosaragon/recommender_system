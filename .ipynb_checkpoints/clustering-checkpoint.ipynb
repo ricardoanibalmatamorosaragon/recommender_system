{
 "cells": [
  {
   "cell_type": "code",
   "execution_count": 522,
   "metadata": {},
   "outputs": [],
   "source": [
    "import scipy.sparse\n",
    "import numpy as np\n",
    "import pandas as pd\n",
    "from scipy.spatial.distance import euclidean, pdist, squareform\n",
    "\n",
    "from sklearn.metrics.pairwise import cosine_similarity\n",
    "from scipy import sparse\n",
    "\n",
    "from scipy.sparse import coo_matrix\n",
    "\n",
    "from sklearn.cluster import SpectralClustering, KMeans"
   ]
  },
  {
   "cell_type": "code",
   "execution_count": 523,
   "metadata": {},
   "outputs": [
    {
     "name": "stdout",
     "output_type": "stream",
     "text": [
      "nodi non connessi : 0\n"
     ]
    }
   ],
   "source": [
    "#read matrix\n",
    "RKM = scipy.sparse.load_npz('RKM.npz')\n",
    "array_n=RKM.toarray()\n",
    "\n",
    "#read mapping matrix movieId\n",
    "mapping = pd.read_csv(\"mapping.csv\") \n",
    "mapping_dic={}\n",
    "for index,row in mapping.iterrows():\n",
    "    mapping_dic[row['column']]=row['movieId']\n",
    "#print(mapping_dic)\n",
    "\n",
    "\n",
    "#controllo se il grafo ha componente sconnesse\n",
    "def control_connected(array):\n",
    "    cont=0\n",
    "    for p in array:\n",
    "        if list(p).count(0)==len(list(p)):\n",
    "            cont+=1\n",
    "    return cont\n",
    "\n",
    "print(\"nodi non connessi :\",str(control_connected(array_n)))\n",
    "\n"
   ]
  },
  {
   "cell_type": "code",
   "execution_count": 524,
   "metadata": {},
   "outputs": [
    {
     "data": {
      "text/plain": [
       "'\\n#matrice di prova \\nx = [[1,0,1,0,1,0],[1,0,0,0,1,0],[1,1,0,0,0,0],[0,0,1,1,0,1],[0,0,0,1,0,1]]\\ny=np.array(x)\\n'"
      ]
     },
     "execution_count": 524,
     "metadata": {},
     "output_type": "execute_result"
    }
   ],
   "source": [
    "'''\n",
    "#matrice di prova \n",
    "x = [[1,0,1,0,1,0],[1,0,0,0,1,0],[1,1,0,0,0,0],[0,0,1,1,0,1],[0,0,0,1,0,1]]\n",
    "y=np.array(x)\n",
    "'''"
   ]
  },
  {
   "cell_type": "code",
   "execution_count": 525,
   "metadata": {},
   "outputs": [
    {
     "data": {
      "text/plain": [
       "'\\n#calcolo misure di distanza\\ndim=int(array_n.shape[0])\\nRKM_euclidean = np.zeros((dim,dim))\\n\\ni=0\\nfor actual in array_n:\\n    j=0\\n    for succ in array_n:\\n        val=euclidean(actual,succ)\\n        RKM_euclidean[i][j]=(1/1+val)\\n        j+=1\\n    i+=1\\n'"
      ]
     },
     "execution_count": 525,
     "metadata": {},
     "output_type": "execute_result"
    }
   ],
   "source": [
    "'''\n",
    "#calcolo misure di distanza\n",
    "dim=int(array_n.shape[0])\n",
    "RKM_euclidean = np.zeros((dim,dim))\n",
    "\n",
    "i=0\n",
    "for actual in array_n:\n",
    "    j=0\n",
    "    for succ in array_n:\n",
    "        val=euclidean(actual,succ)\n",
    "        RKM_euclidean[i][j]=(1/1+val)\n",
    "        j+=1\n",
    "    i+=1\n",
    "'''      "
   ]
  },
  {
   "cell_type": "code",
   "execution_count": 526,
   "metadata": {},
   "outputs": [
    {
     "name": "stdout",
     "output_type": "stream",
     "text": [
      "1327\n"
     ]
    }
   ],
   "source": [
    "#calcolo della matrice di similarità\n",
    "#similarities = cosine_similarity(RKM)\n",
    "\n",
    "similarities_sparse = cosine_similarity(RKM,dense_output=False)\n",
    "\n",
    "#scomentare per matrice di similarità coseno\n",
    "similarities_sparse=similarities_sparse.toarray()\n",
    "\n",
    "print(len(similarities_sparse))\n",
    "\n",
    "#eliminare le righe che contengono solo un 1 e tutti gli altri zero\n",
    "cont=0\n",
    "#risorse rimanenti \n",
    "index_risorse=[]\n",
    "\n",
    "#indici risorse da eliminare\n",
    "index_delete=[]\n",
    "for i in similarities_sparse:\n",
    "    index_risorse.append(cont)\n",
    "    if list(i).count(1)==1 and list(i).count(0)==len(list(i))-1:\n",
    "        index_delete.append(cont)\n",
    "    cont+=1\n",
    "\n",
    "index_risorse=list(set(index_risorse)-set(index_delete))\n",
    "#indice della risorsa utente inserita\n",
    "#print(index_risorse[-1])\n",
    "\n",
    "#delete rows\n",
    "similarities_connected = np.delete(similarities_sparse, index_delete, 0)\n",
    "\n",
    "#delete columns (ipotesi se la riga contiene tutti zeri allora anche la colonna)\n",
    "similarities_connected = np.delete(similarities_connected, index_delete, 1)\n",
    "\n",
    "similarities_connected.shape\n",
    "#similarities_connected_coo= coo_matrix(similarities_connected)\n",
    "\n",
    "for i in similarities_connected:\n",
    "    if list(i).count(1)==1 and list(i).count(0)==len(list(i))-1:\n",
    "        print(\"node non connected\")\n",
    "  "
   ]
  },
  {
   "cell_type": "code",
   "execution_count": 527,
   "metadata": {},
   "outputs": [],
   "source": [
    "#https://www.programcreek.com/python/example/68852/sklearn.cluster.SpectralClustering\n",
    "num_cluster=10\n",
    "#clusters=SpectralClustering(num_cluster,affinity='precomputed',eigen_solver='arpack').fit_predict(similarities_connected)\n",
    "clusters= KMeans(num_cluster, random_state=0).fit(similarities_sparse)\n",
    "\n",
    "#clusters= KMeans(num_cluster, random_state=0).fit(similarities_connected)"
   ]
  },
  {
   "cell_type": "markdown",
   "metadata": {},
   "source": [
    "'''\n",
    "#mappatura di movieId a gli elementi nel cluster (forse è necessario\n",
    "#sommare 1 ad ongi indice)\n",
    "\n",
    "elements_cluster={}\n",
    "\n",
    "for i in clusters:\n",
    "    elements_cluster[i]=[]\n",
    "\n",
    "clusters = list(clusters)\n",
    "for i in range(len(clusters)):\n",
    "    elements_cluster[clusters[i]].append(index_risorse[i])\n",
    "\n",
    "#il film con id 296 è all'interno del primo cluster cosa succede\n",
    "#se si elimina tale film?\n",
    "elements_cluster[0]\n",
    "'''"
   ]
  },
  {
   "cell_type": "code",
   "execution_count": 528,
   "metadata": {},
   "outputs": [
    {
     "data": {
      "text/plain": [
       "KMeans(algorithm='auto', copy_x=True, init='k-means++', max_iter=300,\n",
       "    n_clusters=10, n_init=10, n_jobs=None, precompute_distances='auto',\n",
       "    random_state=0, tol=0.0001, verbose=0)"
      ]
     },
     "execution_count": 528,
     "metadata": {},
     "output_type": "execute_result"
    }
   ],
   "source": [
    "#risultati Kmeans\n",
    "lista_clus=list(clusters.labels_)\n",
    "clusters"
   ]
  },
  {
   "cell_type": "code",
   "execution_count": 529,
   "metadata": {},
   "outputs": [
    {
     "data": {
      "text/plain": [
       "KMeans(algorithm='auto', copy_x=True, init='k-means++', max_iter=300,\n",
       "    n_clusters=10, n_init=10, n_jobs=None, precompute_distances='auto',\n",
       "    random_state=0, tol=0.0001, verbose=0)"
      ]
     },
     "execution_count": 529,
     "metadata": {},
     "output_type": "execute_result"
    }
   ],
   "source": [
    "#risultati spectral clustering \n",
    "clusters"
   ]
  },
  {
   "cell_type": "code",
   "execution_count": 530,
   "metadata": {},
   "outputs": [],
   "source": [
    "dic_cluster={}\n",
    "cluster_movieId={}\n",
    "\n",
    "for i in lista_clus:\n",
    "    dic_cluster[i]=[]\n",
    "    cluster_movieId[i]=[]\n",
    "    \n",
    "cont=0\n",
    "for i in lista_clus:\n",
    "    dic_cluster[i].append(cont)\n",
    "    cont+=1\n",
    "\n",
    "\n",
    "for key in dic_cluster.keys():\n",
    "    for item in dic_cluster[key]:\n",
    "        cluster_movieId[key].append(mapping_dic[item])"
   ]
  },
  {
   "cell_type": "code",
   "execution_count": 537,
   "metadata": {},
   "outputs": [
    {
     "name": "stdout",
     "output_type": "stream",
     "text": [
      "['adultery', 'adultery', 'adultery', 'adultery', 'Africa', 'adultery', 'adultery', 'adultery', 'adultery', 'adultery', 'younger men', 'adultery', 'terminal illness', 'adultery']\n",
      "12\n"
     ]
    }
   ],
   "source": [
    "#controllo delle corrispondenze delel keywords\n",
    "tags = pd.read_csv(\"./movielens/tags_processed.csv\")\n",
    "my_res=len(mapping_dic.keys())-1\n",
    "\n",
    "cluster_my_res=''\n",
    "for i in range(num_cluster):\n",
    "    if my_res in dic_cluster[i]:\n",
    "        cluster_my_res=i\n",
    "\n",
    "#controllo parole in comune \n",
    "commons_keywords=[]\n",
    "for i in cluster_movieId[cluster_my_res]:\n",
    "    a=tags.query(\"movieId ==\"+str(i)).tag\n",
    "    commons_keywords+=list(a)\n",
    "    \n",
    "\n",
    "print(commons_keywords)\n",
    "print(len(cluster_movieId[cluster_my_res]))\n"
   ]
  },
  {
   "cell_type": "code",
   "execution_count": null,
   "metadata": {},
   "outputs": [],
   "source": []
  }
 ],
 "metadata": {
  "kernelspec": {
   "display_name": "Python 3",
   "language": "python",
   "name": "python3"
  },
  "language_info": {
   "codemirror_mode": {
    "name": "ipython",
    "version": 3
   },
   "file_extension": ".py",
   "mimetype": "text/x-python",
   "name": "python",
   "nbconvert_exporter": "python",
   "pygments_lexer": "ipython3",
   "version": "3.7.3"
  }
 },
 "nbformat": 4,
 "nbformat_minor": 2
}
