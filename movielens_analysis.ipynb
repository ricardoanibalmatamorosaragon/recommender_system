{
 "cells": [
  {
   "cell_type": "code",
   "execution_count": 115,
   "metadata": {},
   "outputs": [],
   "source": [
    "# https://medium.com/@datamonsters/text-preprocessing-in-python-steps-tools-and-examples-bf025f872908\n",
    "#http://files.grouplens.org/datasets/movielens/ml-latest-small-README.html"
   ]
  },
  {
   "cell_type": "code",
   "execution_count": 250,
   "metadata": {},
   "outputs": [],
   "source": [
    "import pandas as pd\n",
    "\n",
    "import collections\n",
    "\n",
    "#analysis text\n",
    "from nltk.stem import PorterStemmer\n",
    "from nltk.tokenize import word_tokenize\n",
    "\n",
    "# load coo_matrix from Scipy.sparse module\n",
    "from scipy.sparse import save_npz\n",
    "from scipy.sparse import coo_matrix\n",
    "# import numpy\n",
    "import numpy as np"
   ]
  },
  {
   "cell_type": "code",
   "execution_count": 251,
   "metadata": {},
   "outputs": [
    {
     "data": {
      "text/html": [
       "<div>\n",
       "<style scoped>\n",
       "    .dataframe tbody tr th:only-of-type {\n",
       "        vertical-align: middle;\n",
       "    }\n",
       "\n",
       "    .dataframe tbody tr th {\n",
       "        vertical-align: top;\n",
       "    }\n",
       "\n",
       "    .dataframe thead th {\n",
       "        text-align: right;\n",
       "    }\n",
       "</style>\n",
       "<table border=\"1\" class=\"dataframe\">\n",
       "  <thead>\n",
       "    <tr style=\"text-align: right;\">\n",
       "      <th></th>\n",
       "      <th>movieId</th>\n",
       "      <th>title</th>\n",
       "      <th>genres</th>\n",
       "    </tr>\n",
       "  </thead>\n",
       "  <tbody>\n",
       "    <tr>\n",
       "      <th>0</th>\n",
       "      <td>1</td>\n",
       "      <td>Toy Story (1995)</td>\n",
       "      <td>Adventure|Animation|Children|Comedy|Fantasy</td>\n",
       "    </tr>\n",
       "    <tr>\n",
       "      <th>1</th>\n",
       "      <td>2</td>\n",
       "      <td>Jumanji (1995)</td>\n",
       "      <td>Adventure|Children|Fantasy</td>\n",
       "    </tr>\n",
       "    <tr>\n",
       "      <th>2</th>\n",
       "      <td>3</td>\n",
       "      <td>Grumpier Old Men (1995)</td>\n",
       "      <td>Comedy|Romance</td>\n",
       "    </tr>\n",
       "    <tr>\n",
       "      <th>3</th>\n",
       "      <td>4</td>\n",
       "      <td>Waiting to Exhale (1995)</td>\n",
       "      <td>Comedy|Drama|Romance</td>\n",
       "    </tr>\n",
       "    <tr>\n",
       "      <th>4</th>\n",
       "      <td>5</td>\n",
       "      <td>Father of the Bride Part II (1995)</td>\n",
       "      <td>Comedy</td>\n",
       "    </tr>\n",
       "  </tbody>\n",
       "</table>\n",
       "</div>"
      ],
      "text/plain": [
       "   movieId                               title  \\\n",
       "0        1                    Toy Story (1995)   \n",
       "1        2                      Jumanji (1995)   \n",
       "2        3             Grumpier Old Men (1995)   \n",
       "3        4            Waiting to Exhale (1995)   \n",
       "4        5  Father of the Bride Part II (1995)   \n",
       "\n",
       "                                        genres  \n",
       "0  Adventure|Animation|Children|Comedy|Fantasy  \n",
       "1                   Adventure|Children|Fantasy  \n",
       "2                               Comedy|Romance  \n",
       "3                         Comedy|Drama|Romance  \n",
       "4                                       Comedy  "
      ]
     },
     "execution_count": 251,
     "metadata": {},
     "output_type": "execute_result"
    }
   ],
   "source": [
    "movies = pd.read_csv(\"./movielens/movies.csv\") \n",
    "movies.head(5)"
   ]
  },
  {
   "cell_type": "code",
   "execution_count": 252,
   "metadata": {},
   "outputs": [
    {
     "data": {
      "text/plain": [
       "(100836, 4)"
      ]
     },
     "execution_count": 252,
     "metadata": {},
     "output_type": "execute_result"
    }
   ],
   "source": [
    "ratings = pd.read_csv(\"./movielens/ratings.csv\") \n",
    "ratings.shape"
   ]
  },
  {
   "cell_type": "code",
   "execution_count": 253,
   "metadata": {},
   "outputs": [
    {
     "data": {
      "text/html": [
       "<div>\n",
       "<style scoped>\n",
       "    .dataframe tbody tr th:only-of-type {\n",
       "        vertical-align: middle;\n",
       "    }\n",
       "\n",
       "    .dataframe tbody tr th {\n",
       "        vertical-align: top;\n",
       "    }\n",
       "\n",
       "    .dataframe thead th {\n",
       "        text-align: right;\n",
       "    }\n",
       "</style>\n",
       "<table border=\"1\" class=\"dataframe\">\n",
       "  <thead>\n",
       "    <tr style=\"text-align: right;\">\n",
       "      <th></th>\n",
       "      <th>userId</th>\n",
       "      <th>movieId</th>\n",
       "      <th>tag</th>\n",
       "      <th>timestamp</th>\n",
       "    </tr>\n",
       "  </thead>\n",
       "  <tbody>\n",
       "    <tr>\n",
       "      <th>0</th>\n",
       "      <td>2</td>\n",
       "      <td>60756</td>\n",
       "      <td>funny</td>\n",
       "      <td>1445714994</td>\n",
       "    </tr>\n",
       "    <tr>\n",
       "      <th>1</th>\n",
       "      <td>2</td>\n",
       "      <td>60756</td>\n",
       "      <td>Highly quotable</td>\n",
       "      <td>1445714996</td>\n",
       "    </tr>\n",
       "    <tr>\n",
       "      <th>2</th>\n",
       "      <td>2</td>\n",
       "      <td>60756</td>\n",
       "      <td>will ferrell</td>\n",
       "      <td>1445714992</td>\n",
       "    </tr>\n",
       "    <tr>\n",
       "      <th>3</th>\n",
       "      <td>2</td>\n",
       "      <td>89774</td>\n",
       "      <td>Boxing story</td>\n",
       "      <td>1445715207</td>\n",
       "    </tr>\n",
       "    <tr>\n",
       "      <th>4</th>\n",
       "      <td>2</td>\n",
       "      <td>89774</td>\n",
       "      <td>MMA</td>\n",
       "      <td>1445715200</td>\n",
       "    </tr>\n",
       "  </tbody>\n",
       "</table>\n",
       "</div>"
      ],
      "text/plain": [
       "   userId  movieId              tag   timestamp\n",
       "0       2    60756            funny  1445714994\n",
       "1       2    60756  Highly quotable  1445714996\n",
       "2       2    60756     will ferrell  1445714992\n",
       "3       2    89774     Boxing story  1445715207\n",
       "4       2    89774              MMA  1445715200"
      ]
     },
     "execution_count": 253,
     "metadata": {},
     "output_type": "execute_result"
    }
   ],
   "source": [
    "tags = pd.read_csv(\"./movielens/tags.csv\")\n",
    "tags.head()"
   ]
  },
  {
   "cell_type": "code",
   "execution_count": 254,
   "metadata": {},
   "outputs": [],
   "source": [
    "\n",
    "#rimozione keyword In Netflix queue\n",
    "tags=tags[tags.tag != 'In Netflix queue']\n",
    "tags.query(\"tag == 'In Netflix queue'\")\n",
    "tags.to_csv('./movielens/tags_processed.csv', sep=',',index=False)\n"
   ]
  },
  {
   "cell_type": "code",
   "execution_count": 255,
   "metadata": {},
   "outputs": [
    {
     "data": {
      "text/plain": [
       "\"\\n#dataset di prova\\ntags=pd.DataFrame(columns=['movieId','tag'])\\ntags['movieId']=[1,1,1,2,2,3,3,4,4,4,5,5]\\ntags['tag']=['a','c','e','a','e','a','b','c','d','f','d','f']\\ntags\\n\""
      ]
     },
     "execution_count": 255,
     "metadata": {},
     "output_type": "execute_result"
    }
   ],
   "source": [
    "'''\n",
    "#dataset di prova\n",
    "tags=pd.DataFrame(columns=['movieId','tag'])\n",
    "tags['movieId']=[1,1,1,2,2,3,3,4,4,4,5,5]\n",
    "tags['tag']=['a','c','e','a','e','a','b','c','d','f','d','f']\n",
    "tags\n",
    "'''"
   ]
  },
  {
   "cell_type": "code",
   "execution_count": 256,
   "metadata": {},
   "outputs": [],
   "source": [
    "#stemming \n",
    "stemmer= PorterStemmer()\n",
    "\n",
    "#dizionario con key= id_film , value= keywords\n",
    "keywords={}\n",
    "\n",
    "for index,row in tags.iterrows():\n",
    "    keywords[row['movieId']]=[]\n",
    "    #columns_RKM.append(row['tag'])\n",
    "    \n",
    "for index,row in tags.iterrows():\n",
    "    keywords[row['movieId']].append(row['tag'])\n",
    "\n",
    "\n",
    "remove_index=[]\n",
    "#rimozione del film con troppe keywords\n",
    "for key in keywords.keys():\n",
    "    if len(keywords[key]) > 5:\n",
    "        remove_index.append(key)\n",
    "for i in remove_index:\n",
    "    del keywords[i]\n",
    "    \n",
    "all_keywords_string={}\n",
    "#dataframe idmovie , keywords\n",
    "for key in keywords.keys():\n",
    "    all_keywords_string[key]=', '.join(keywords[key])\n",
    "dataset = pd.DataFrame(columns=['movieId','tags'])\n",
    "dataset['movieId']=all_keywords_string.keys()\n",
    "dataset['tags']=all_keywords_string.values()\n",
    "\n",
    "#esplorazione preliminare delle keywords\n",
    "dataset['word_count'] = dataset['tags'].apply(lambda x: len(str(x).split(\",\")))\n",
    "#dataset[['tags','word_count']].head()\n"
   ]
  },
  {
   "cell_type": "code",
   "execution_count": 257,
   "metadata": {},
   "outputs": [
    {
     "data": {
      "text/plain": [
       "count    1326.000000\n",
       "mean        1.536953\n",
       "std         0.979676\n",
       "min         1.000000\n",
       "25%         1.000000\n",
       "50%         1.000000\n",
       "75%         2.000000\n",
       "max         5.000000\n",
       "Name: word_count, dtype: float64"
      ]
     },
     "execution_count": 257,
     "metadata": {},
     "output_type": "execute_result"
    }
   ],
   "source": [
    "#statistiche descrittive del conteggio delle parole\n",
    "#indicazione della dimensione del set di dati che \n",
    "#stiamo gestendo e della variazione del conteggio delle \n",
    "#parole tra le righe.\n",
    "dataset.word_count.describe()"
   ]
  },
  {
   "cell_type": "code",
   "execution_count": 258,
   "metadata": {},
   "outputs": [
    {
     "data": {
      "text/html": [
       "<div>\n",
       "<style scoped>\n",
       "    .dataframe tbody tr th:only-of-type {\n",
       "        vertical-align: middle;\n",
       "    }\n",
       "\n",
       "    .dataframe tbody tr th {\n",
       "        vertical-align: top;\n",
       "    }\n",
       "\n",
       "    .dataframe thead th {\n",
       "        text-align: right;\n",
       "    }\n",
       "</style>\n",
       "<table border=\"1\" class=\"dataframe\">\n",
       "  <thead>\n",
       "    <tr style=\"text-align: right;\">\n",
       "      <th></th>\n",
       "      <th>movieId</th>\n",
       "      <th>tags</th>\n",
       "      <th>word_count</th>\n",
       "    </tr>\n",
       "  </thead>\n",
       "  <tbody>\n",
       "    <tr>\n",
       "      <th>0</th>\n",
       "      <td>89774</td>\n",
       "      <td>Boxing story, MMA, Tom Hardy</td>\n",
       "      <td>3</td>\n",
       "    </tr>\n",
       "    <tr>\n",
       "      <th>1</th>\n",
       "      <td>106782</td>\n",
       "      <td>drugs, Leonardo DiCaprio, Martin Scorsese, Sto...</td>\n",
       "      <td>5</td>\n",
       "    </tr>\n",
       "    <tr>\n",
       "      <th>2</th>\n",
       "      <td>431</td>\n",
       "      <td>Al Pacino, gangster, mafia</td>\n",
       "      <td>3</td>\n",
       "    </tr>\n",
       "    <tr>\n",
       "      <th>3</th>\n",
       "      <td>1221</td>\n",
       "      <td>Al Pacino, Mafia, Mafia</td>\n",
       "      <td>3</td>\n",
       "    </tr>\n",
       "    <tr>\n",
       "      <th>4</th>\n",
       "      <td>5995</td>\n",
       "      <td>holocaust, true story, Holocaust</td>\n",
       "      <td>3</td>\n",
       "    </tr>\n",
       "  </tbody>\n",
       "</table>\n",
       "</div>"
      ],
      "text/plain": [
       "   movieId                                               tags  word_count\n",
       "0    89774                       Boxing story, MMA, Tom Hardy           3\n",
       "1   106782  drugs, Leonardo DiCaprio, Martin Scorsese, Sto...           5\n",
       "2      431                         Al Pacino, gangster, mafia           3\n",
       "3     1221                            Al Pacino, Mafia, Mafia           3\n",
       "4     5995                   holocaust, true story, Holocaust           3"
      ]
     },
     "execution_count": 258,
     "metadata": {},
     "output_type": "execute_result"
    }
   ],
   "source": [
    "dataset.head()"
   ]
  },
  {
   "cell_type": "code",
   "execution_count": 259,
   "metadata": {},
   "outputs": [
    {
     "data": {
      "image/png": "[encoded data removed]",
      "text/plain": [
       "<Figure size 432x288 with 1 Axes>"
      ]
     },
     "metadata": {
      "needs_background": "light"
     },
     "output_type": "display_data"
    }
   ],
   "source": [
    "from collections import Counter\n",
    "import matplotlib.pyplot as plt\n",
    "def plot_frequency(data_frame):\n",
    "    total_keywords=''\n",
    "    for index,row in data_frame.iterrows():\n",
    "        total_keywords+=row['tags']+','\n",
    "    total_keywords=total_keywords[0:-1]\n",
    "\n",
    "\n",
    "    list_keywords= total_keywords.split(',')\n",
    "\n",
    "    clean_keywords=[]\n",
    "    for i in list_keywords:\n",
    "        clean_keywords.append(i.lstrip())\n",
    "\n",
    "\n",
    "    count_k = Counter(clean_keywords) \n",
    "\n",
    "\n",
    "    #total_keywords\n",
    "    # most_common() produces k frequently encountered \n",
    "    # input values and their respective counts. \n",
    "    most_occur = count_k.most_common(40)\n",
    "\n",
    "    data_plot = pd.DataFrame(columns=['tags','count'])\n",
    "    keyws=[]\n",
    "    count=[]\n",
    "    for i in most_occur:\n",
    "        keyws.append(i[0])\n",
    "        count.append(i[1])\n",
    "    data_plot['keyword']=keyws\n",
    "    data_plot['count']=count\n",
    "    data_plot.plot(x ='keyword', y='count', kind = 'bar')\n",
    "    \n",
    "\n",
    "plot_frequency(dataset)"
   ]
  },
  {
   "cell_type": "code",
   "execution_count": 260,
   "metadata": {},
   "outputs": [],
   "source": [
    "#questa risorsa contien 186 risorse conviene eliminarla?\n",
    "#tags.query(\"movieId == 296\")"
   ]
  },
  {
   "cell_type": "code",
   "execution_count": 290,
   "metadata": {},
   "outputs": [
    {
     "data": {
      "text/plain": [
       "1327"
      ]
     },
     "execution_count": 290,
     "metadata": {},
     "output_type": "execute_result"
    }
   ],
   "source": [
    "#processing dic resource and kewords\n",
    "for i in keywords.keys():\n",
    "    keywords[i]=set(keywords[i])\n",
    "    \n",
    "    temp=[]\n",
    "    for word in keywords[i]:\n",
    "        #stemming\n",
    "        #temp_keyword=stemmer.stem(word)\n",
    "        temp_keyword=word\n",
    "        #lower case\n",
    "        temp.append(temp_keyword.lower())\n",
    "    keywords[i]=temp\n",
    "\n",
    "\n",
    "ordered_keywords=collections.OrderedDict(sorted(keywords.items()))\n",
    "ordered_keywords[987654321]=['adultery','court','military','halloween']\n",
    "len(ordered_keywords)"
   ]
  },
  {
   "cell_type": "code",
   "execution_count": 284,
   "metadata": {},
   "outputs": [
    {
     "data": {
      "text/plain": [
       "971"
      ]
     },
     "execution_count": 284,
     "metadata": {},
     "output_type": "execute_result"
    }
   ],
   "source": [
    "#processing kewords columns RKM\n",
    "columns_RKM=[]\n",
    "\n",
    "#prendo le keywords associate ad ogni risorsa\n",
    "for key in ordered_keywords.keys():\n",
    "    columns_RKM+=ordered_keywords[key]\n",
    "\n",
    "#eliminazione keywords ripetute \n",
    "columns_RKM=set(columns_RKM)\n",
    "\n",
    "'''\n",
    "#lower case\n",
    "lower_keywords=[]\n",
    "for i in columns_RKM:\n",
    "    lower_keywords.append(i.lower())\n",
    "    \n",
    "#stemming \n",
    "stemmer_keywords=[]\n",
    "stemmer= PorterStemmer()\n",
    "for i in lower_keywords:\n",
    "    stemmer_keywords.append(stemmer.stem(i))\n",
    "\n",
    "len(stemmer_keywords)\n",
    "'''\n",
    "columns_RKM=list(columns_RKM)\n",
    "len(columns_RKM)"
   ]
  },
  {
   "cell_type": "code",
   "execution_count": 299,
   "metadata": {},
   "outputs": [],
   "source": [
    "#generate matrix\n",
    "RKM = np.zeros((len(ordered_keywords.keys()), len(columns_RKM)), dtype=np.int32)\n",
    "\n",
    "row=0\n",
    "for key in ordered_keywords.keys():\n",
    "    for word in ordered_keywords[key]:\n",
    "        if word in columns_RKM:\n",
    "            column=columns_RKM.index(word)\n",
    "            RKM[row,column]=1\n",
    "    row+=1\n",
    "               \n",
    "RKM_coo= coo_matrix(RKM)\n",
    "save_npz('RKM.npz', RKM_coo, compressed=True)"
   ]
  },
  {
   "cell_type": "code",
   "execution_count": 301,
   "metadata": {},
   "outputs": [],
   "source": [
    "mapping=pd.DataFrame(columns=['column','movieId'])\n",
    "mapping['column']=range(len(ordered_keywords.keys()))\n",
    "mapping['movieId']=ordered_keywords.keys()\n",
    "\n",
    "mapping.to_csv('mapping.csv', sep=',',index=False)"
   ]
  },
  {
   "cell_type": "code",
   "execution_count": null,
   "metadata": {},
   "outputs": [],
   "source": []
  }
 ],
 "metadata": {
  "kernelspec": {
   "display_name": "Python 3",
   "language": "python",
   "name": "python3"
  },
  "language_info": {
   "codemirror_mode": {
    "name": "ipython",
    "version": 3
   },
   "file_extension": ".py",
   "mimetype": "text/x-python",
   "name": "python",
   "nbconvert_exporter": "python",
   "pygments_lexer": "ipython3",
   "version": "3.7.3"
  }
 },
 "nbformat": 4,
 "nbformat_minor": 2
}
