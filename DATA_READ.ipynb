{
 "cells": [
  {
   "cell_type": "markdown",
   "metadata": {},
   "source": [
    "Questo notebook viene utilizzato per la lettura e analisi dei dati proveniente dal DB di WhoTeach"
   ]
  },
  {
   "cell_type": "code",
   "execution_count": 69,
   "metadata": {},
   "outputs": [],
   "source": [
    "import pandas as pd\n",
    "import math\n",
    "import numpy as np"
   ]
  },
  {
   "cell_type": "code",
   "execution_count": 70,
   "metadata": {},
   "outputs": [],
   "source": [
    "mdl_course = pd.read_csv(\"schemas/mdl_course.csv\")\n",
    "#,error_bad_lines=False)\n",
    "mdl_course_categories = pd.read_csv(\"schemas/mdl_course_categories.csv\")\n",
    "mdl_course_sections = pd.read_csv(\"schemas/mdl_course_sections.csv\")\n",
    "full_text_section=  pd.read_csv(\"schemas/full_text_section.csv\")\n",
    "mdl_course_modules=  pd.read_csv(\"schemas/mdl_course_modules.csv\")\n",
    "mdl_url= pd.read_csv(\"schemas/mdl_url.csv\")\n",
    "mdl_metadata=pd.read_csv(\"schemas/mdl_metadata.csv\")"
   ]
  },
  {
   "cell_type": "code",
   "execution_count": 71,
   "metadata": {},
   "outputs": [],
   "source": [
    "#carico tutte le tabelle contenenti il nome delle risorse\n",
    "#[1, 3, 4, 8, 9, 12, 13, 15, 16, 17, 20, 22]\n",
    "#1\n",
    "mdl_assign = pd.read_csv(\"schemas/mdl_assign.csv\")\n",
    "#3\n",
    "mdl_book = pd.read_csv(\"schemas/mdl_book.csv\")\n",
    "#4\n",
    "mdl_chat= pd.read_csv(\"schemas/mdl_chat.csv\")\n",
    "#8\n",
    "mdl_folder = pd.read_csv(\"schemas/mdl_folder.csv\")\n",
    "#9\n",
    "mdl_forum = pd.read_csv(\"schemas/mdl_forum.csv\")\n",
    "#12 \n",
    "mdl_label = pd.read_csv(\"schemas/mdl_label.csv\")\n",
    "#13\n",
    "mdl_lesson = pd.read_csv(\"schemas/mdl_lesson.csv\")\n",
    "#15\n",
    "mdl_page = pd.read_csv(\"schemas/mdl_page.csv\")\n",
    "#16\n",
    "mdl_quiz = pd.read_csv(\"schemas/mdl_quiz.csv\")\n",
    "#17\n",
    "mdl_resource = pd.read_csv(\"schemas/mdl_resource.csv\")\n",
    "#20\n",
    "mdl_url = pd.read_csv(\"schemas/mdl_url.csv\")\n",
    "#22\n",
    "mdl_workshop= pd.read_csv(\"schemas/mdl_workshop.csv\")"
   ]
  },
  {
   "cell_type": "code",
   "execution_count": 72,
   "metadata": {},
   "outputs": [],
   "source": [
    "#contiene l'informazione dei corsi effettivi\n",
    "#ha senso verificare il rate di ogni corso ? ci sono solo 15 valutazioni di 108 corsi\n",
    "#mdl_course.head()"
   ]
  },
  {
   "cell_type": "code",
   "execution_count": 73,
   "metadata": {
    "scrolled": true
   },
   "outputs": [
    {
     "data": {
      "text/plain": [
       "{1742.0, 1743.0, 1744.0, 1745.0, 1746.0}"
      ]
     },
     "execution_count": 73,
     "metadata": {},
     "output_type": "execute_result"
    }
   ],
   "source": [
    "set(mdl_metadata.query(\"Property =='keywords' and Id_course == 217 and Id_course_sections==1673\")[\"Id_resource\"])"
   ]
  },
  {
   "cell_type": "code",
   "execution_count": 76,
   "metadata": {},
   "outputs": [
    {
     "name": "stdout",
     "output_type": "stream",
     "text": [
      "1742\n",
      "1743\n",
      "1744\n",
      "1745\n",
      "1746\n"
     ]
    },
    {
     "data": {
      "text/plain": [
       "'Power Spectral Density Function Cross\\xa0Spectral Density Function White Noise'"
      ]
     },
     "execution_count": 76,
     "metadata": {},
     "output_type": "execute_result"
    }
   ],
   "source": [
    "statistica = mdl_course_categories.query(\"id ==22\")\n",
    "corsi=mdl_course.query(\"category == 22\")\n",
    "corso_id_217=corsi.query(\"id == 217\")\n",
    "moduli=mdl_course_sections.query(\"course ==217\")\n",
    "modulo=moduli.query(\"id == 1673 and section == 2\")\n",
    "risorse=mdl_course_modules.query(\"section==1673\")\n",
    "# 1. get keywords for each res\n",
    "for res_id in set(risorse['id']):\n",
    "    print(res_id)\n",
    "\n",
    "# 2. get name\n",
    "\n",
    "risorsa= risorse.query(\"instance == 839\")\n",
    "#accesso alla risorsa effettiva\n",
    "#instance in mdl_course_modules indica l'id della risorsa nella tabella riferita dal campo module\n",
    "#risorsa_effettiva=mdl_url.query(\"id == 839\")\n",
    "list(risorsa_effettiva.name)[0]\n",
    "#risorsa"
   ]
  },
  {
   "cell_type": "code",
   "execution_count": 77,
   "metadata": {},
   "outputs": [
    {
     "name": "stdout",
     "output_type": "stream",
     "text": [
      "1742\n"
     ]
    }
   ],
   "source": [
    "# 1. get keywords for each res\n",
    "a = []\n",
    "for res_id in set(risorse['id']):\n",
    "    print(res_id)\n",
    "    a.append(mdl_metadata.loc[(mdl_metadata['Id_resource'] == res_id) & (mdl_metadata['Property'] == \"keywords\")]['Value'])\n",
    "    break\n",
    "    "
   ]
  },
  {
   "cell_type": "code",
   "execution_count": 9,
   "metadata": {},
   "outputs": [],
   "source": [
    "database=[]\n",
    "categories={}\n",
    "courses={}\n",
    "sections={}\n",
    "name_section={}"
   ]
  },
  {
   "cell_type": "code",
   "execution_count": 78,
   "metadata": {},
   "outputs": [
    {
     "data": {
      "text/plain": [
       "{1: 'Abilità informatiche',\n",
       " 14: 'Competenze in Economia',\n",
       " 15: 'Abilità Comunicative',\n",
       " 16: 'Sviluppo Personale',\n",
       " 20: 'Visione imprenditoriale',\n",
       " 22: 'Probability and Statistics'}"
      ]
     },
     "execution_count": 78,
     "metadata": {},
     "output_type": "execute_result"
    }
   ],
   "source": [
    "for index in range(len(mdl_course_categories)):\n",
    "    categories[mdl_course_categories.id[index]]=mdl_course_categories.name[index]\n",
    "categories"
   ]
  },
  {
   "cell_type": "code",
   "execution_count": 79,
   "metadata": {},
   "outputs": [
    {
     "data": {
      "text/plain": [
       "107"
      ]
     },
     "execution_count": 79,
     "metadata": {},
     "output_type": "execute_result"
    }
   ],
   "source": [
    "#tutti i corsi all'interno della piattaforma\n",
    "#id\tcategory\tsortorder\tfullname\tshortname\n",
    "for index in range(len(mdl_course)):\n",
    "        ctgy=mdl_course.category[index]\n",
    "        if ctgy != 0:\n",
    "            #print(categories[ctgy])\n",
    "            '''\n",
    "            if mdl_course.shortname[index]==\"'nan'\":\n",
    "                courses[mdl_course.id[index]]=[categories[ctgy],mdl_course.fullname[index],'null']\n",
    "            else:\n",
    "                courses[mdl_course.id[index]]=[categories[ctgy],mdl_course.fullname[index],mdl_course.shortname[index]]\n",
    "            '''\n",
    "            courses[mdl_course.id[index]]=[categories[ctgy],mdl_course.fullname[index]]\n",
    "len(courses)"
   ]
  },
  {
   "cell_type": "code",
   "execution_count": 80,
   "metadata": {},
   "outputs": [
    {
     "data": {
      "text/plain": [
       "['Probability and Statistics', 'Stochastic Estimation and Control', 1673]"
      ]
     },
     "execution_count": 80,
     "metadata": {},
     "output_type": "execute_result"
    }
   ],
   "source": [
    "#tutte le sezioni di tutti i corsi\n",
    "#id\tcourse\tsection\tname\n",
    "for index in range(len(mdl_course_sections)):\n",
    "    crse=mdl_course_sections.course[index]\n",
    "    if crse != 1:\n",
    "        sections[mdl_course_sections.id[index]]=[courses[crse][0],courses[crse][1],mdl_course_sections.id[index]]\n",
    "\n",
    "#len(full_text_section)\n",
    "sections[1673]"
   ]
  },
  {
   "cell_type": "code",
   "execution_count": 81,
   "metadata": {},
   "outputs": [],
   "source": [
    "risorse_totali={}\n",
    "for key in sections.keys():\n",
    "    risorse_totali[key]=mdl_course_modules.query(\"section == \"+str(key)) \n",
    "\n",
    "temp=[]\n",
    "#id module instance id_section section/information\n",
    "for key in risorse_totali.keys():\n",
    "    for index,row in risorse_totali[key].iterrows():\n",
    "        my_list=[int(row.id),int(row.module),int(row.instance),int(row.section)]\n",
    "        temp.append(my_list)\n",
    "\n",
    "risorse_informazione=[]\n",
    "for i in temp:\n",
    "    t=i+sections[i[3]]\n",
    "    risorse_informazione.append(t)\n",
    "\n",
    "for i in risorse_informazione:\n",
    "    module = i[1]\n",
    "    line = i[2]\n",
    "    if module==1:\n",
    "        a=list(mdl_assign.query(\"id==\"+str(line)).name)[0]\n",
    "        i.append(a)\n",
    "    elif module ==3:\n",
    "        a=list(mdl_book.query(\"id==\"+str(line)).name)[0]\n",
    "        i.append(a)\n",
    "    elif module ==4:\n",
    "        a=list(mdl_chat.query(\"id==\"+str(line)).name)[0]\n",
    "        i.append(a)\n",
    "    elif module ==8:\n",
    "        a=list(mdl_folder.query(\"id==\"+str(line)).name)[0]\n",
    "        i.append(a)\n",
    "    elif module ==9:\n",
    "        a=list(mdl_forum.query(\"id==\"+str(line)).name)[0]\n",
    "        i.append(a)\n",
    "    elif module ==12:\n",
    "        a=list(mdl_label.query(\"id==\"+str(line)).name)[0]\n",
    "        i.append(a)\n",
    "    elif module ==13:\n",
    "        a=list(mdl_lesson.query(\"id==\"+str(line)).name)[0]\n",
    "        i.append(a)\n",
    "    elif module ==15:\n",
    "        a=list(mdl_page.query(\"id==\"+str(line)).name)[0]\n",
    "        i.append(a)\n",
    "    elif module ==16:\n",
    "        a=list(mdl_quiz.query(\"id==\"+str(line)).name)[0]\n",
    "        i.append(a)\n",
    "    elif module ==17:\n",
    "        a=list(mdl_resource.query(\"id==\"+str(line)).name)[0]\n",
    "        i.append(a)\n",
    "    elif module ==20:\n",
    "        a=list(mdl_url.query(\"id==\"+str(line)).name)[0]\n",
    "        i.append(a)\n",
    "    elif module ==22:\n",
    "        a=list(mdl_workshop.query(\"id==\"+str(line)).name)[0]\n",
    "        i.append(a)\n",
    "    else: \n",
    "        print('error')\n",
    "\n",
    "\n",
    "\n",
    "for i in risorse_informazione:\n",
    "    del i[1:3]\n",
    "\n",
    "keywords_metadata={}\n",
    "for index,row in mdl_metadata.iterrows():\n",
    "    if row.Property == 'keywords':\n",
    "        if not(math.isnan(float(row.Id_resource))):\n",
    "            keywords_metadata[int(row.Id_resource)]=[]\n",
    "        \n",
    "for index,row in mdl_metadata.iterrows():\n",
    "    if row.Property == 'keywords':\n",
    "        if not(math.isnan(float(row.Id_resource))):\n",
    "            keywords_metadata[int(row.Id_resource)].append(row.Value)\n",
    "\n",
    "#risorse_informazione\n"
   ]
  },
  {
   "cell_type": "code",
   "execution_count": 82,
   "metadata": {},
   "outputs": [],
   "source": [
    "#keywords_metadata è un dizionario key = id_risorsa e value = una lista delle keywords della risorsa\n",
    "#risorse_informazione contiene tutte le informazioni per ogni risorsa \n",
    "for row in risorse_informazione:\n",
    "    if row[0] in keywords_metadata.keys():\n",
    "        temp=''\n",
    "        for keyword in keywords_metadata[row[0]]:\n",
    "            temp+=keyword+' ,'\n",
    "        temp=temp[0:-2]\n",
    "        row.append(temp)\n"
   ]
  },
  {
   "cell_type": "code",
   "execution_count": 83,
   "metadata": {},
   "outputs": [],
   "source": [
    "#da 1690 a 1402 tenendo solo le risorse che hanno effettivamente delle keywords.\n",
    "risorse_con_keywords=[]\n",
    "for i in risorse_informazione:\n",
    "    if len(i) > 5:\n",
    "        del i[0]\n",
    "        risorse_con_keywords.append(i)\n",
    "#print(risorse_con_keywords)"
   ]
  },
  {
   "cell_type": "code",
   "execution_count": 84,
   "metadata": {},
   "outputs": [
    {
     "name": "stdout",
     "output_type": "stream",
     "text": [
      "''Review''\n"
     ]
    }
   ],
   "source": [
    "#tirare i nomi fuori da full_text_section poi inserirli nella posizione 2 in sections\n",
    "\n",
    "for index in range(len(full_text_section)):\n",
    "    name_section[full_text_section.id_section[index]]=full_text_section.name[index]\n",
    "\n",
    "print(name_section[1132])\n",
    "#full_text_section.query(\"id_section==1132\")"
   ]
  },
  {
   "cell_type": "code",
   "execution_count": 85,
   "metadata": {},
   "outputs": [],
   "source": [
    "for row in risorse_con_keywords:\n",
    "    if row[0] in name_section.keys():\n",
    "        row.append(name_section[row[0]])\n",
    "    #else:\n",
    "        #row.append('null')\n",
    "    del row[0]\n"
   ]
  },
  {
   "cell_type": "code",
   "execution_count": 86,
   "metadata": {},
   "outputs": [],
   "source": [
    "#categoria - corso - id_sezione - risorsa - keywords\n",
    "# le risorse fin'ora sono 1690 con valori mancanti\n",
    "dataset_final=[]\n",
    "for i in risorse_con_keywords:\n",
    "    if len(i)==5:\n",
    "        dataset_final.append(i)\n"
   ]
  },
  {
   "cell_type": "code",
   "execution_count": 88,
   "metadata": {},
   "outputs": [],
   "source": [
    "#numero di risorse effettive indipendentemente dal numero di corsi di appartenenza\n",
    "num_risorse={}\n",
    "for i in dataset_final:\n",
    "    num_risorse[i[2]]=0\n",
    "for i in dataset_final:\n",
    "    num_risorse[i[2]]+=1\n",
    "\n",
    "#dic solo con le risorse effettive e le keywords associate \n",
    "risorse_keywords={}\n",
    "for i in dataset_final:\n",
    "    risorse_keywords[i[3]]=[]\n",
    "    \n",
    "for i in dataset_final:\n",
    "    risorse_keywords[i[3]].append(i[4])\n",
    "\n",
    "#delete duplicated keywords\n",
    "for index in risorse_keywords.keys():\n",
    "    risorse_keywords[index]=list(set(risorse_keywords[index]))\n",
    "    \n"
   ]
  },
  {
   "cell_type": "code",
   "execution_count": 89,
   "metadata": {},
   "outputs": [],
   "source": [
    "categoria=[]\n",
    "corso=[]\n",
    "id_sezione=[]\n",
    "risorsa=[]\n",
    "keywords=[]\n",
    "for i in dataset_final:\n",
    "    categoria.append(i[0])\n",
    "    corso.append(i[1])\n",
    "    id_sezione.append(i[2])\n",
    "    risorsa.append(i[3])\n",
    "    keywords.append(i[4])\n"
   ]
  },
  {
   "cell_type": "code",
   "execution_count": 90,
   "metadata": {},
   "outputs": [],
   "source": [
    "dataset = pd.DataFrame(columns=['id','categoria', 'corso', 'id_sezione','risorsa','keywords'])"
   ]
  },
  {
   "cell_type": "code",
   "execution_count": 96,
   "metadata": {},
   "outputs": [
    {
     "data": {
      "text/html": [
       "<div>\n",
       "<style scoped>\n",
       "    .dataframe tbody tr th:only-of-type {\n",
       "        vertical-align: middle;\n",
       "    }\n",
       "\n",
       "    .dataframe tbody tr th {\n",
       "        vertical-align: top;\n",
       "    }\n",
       "\n",
       "    .dataframe thead th {\n",
       "        text-align: right;\n",
       "    }\n",
       "</style>\n",
       "<table border=\"1\" class=\"dataframe\">\n",
       "  <thead>\n",
       "    <tr style=\"text-align: right;\">\n",
       "      <th></th>\n",
       "      <th>id</th>\n",
       "      <th>categoria</th>\n",
       "      <th>corso</th>\n",
       "      <th>id_sezione</th>\n",
       "      <th>risorsa</th>\n",
       "      <th>keywords</th>\n",
       "    </tr>\n",
       "  </thead>\n",
       "  <tbody>\n",
       "    <tr>\n",
       "      <th>0</th>\n",
       "      <td>0</td>\n",
       "      <td>Abilità informatiche</td>\n",
       "      <td>Editoria Digitale 2017/2018</td>\n",
       "      <td>1002</td>\n",
       "      <td>Risorse online</td>\n",
       "      <td>''Random Variables and Distributions''</td>\n",
       "    </tr>\n",
       "    <tr>\n",
       "      <th>1</th>\n",
       "      <td>1</td>\n",
       "      <td>Abilità informatiche</td>\n",
       "      <td>Editoria Digitale 2017/2018</td>\n",
       "      <td>1002</td>\n",
       "      <td>Lezioni05/10/2017Presentazione del corso, moda...</td>\n",
       "      <td>''Random Variables and Distributions''</td>\n",
       "    </tr>\n",
       "    <tr>\n",
       "      <th>2</th>\n",
       "      <td>2</td>\n",
       "      <td>Abilità informatiche</td>\n",
       "      <td>Editoria Digitale 2017/2018</td>\n",
       "      <td>1002</td>\n",
       "      <td>10/10/2017Scenari della nuova editoria&amp;nbsp;Le...</td>\n",
       "      <td>''Random Variables and Distributions''</td>\n",
       "    </tr>\n",
       "    <tr>\n",
       "      <th>3</th>\n",
       "      <td>3</td>\n",
       "      <td>Abilità informatiche</td>\n",
       "      <td>Editoria Digitale 2017/2018</td>\n",
       "      <td>1002</td>\n",
       "      <td>12/10/2017Il libro digitale e le sue origini&amp;n...</td>\n",
       "      <td>''Random Variables and Distributions''</td>\n",
       "    </tr>\n",
       "    <tr>\n",
       "      <th>4</th>\n",
       "      <td>4</td>\n",
       "      <td>Abilità informatiche</td>\n",
       "      <td>Editoria Digitale 2017/2018</td>\n",
       "      <td>1002</td>\n",
       "      <td>17/10/2017Il mercato del libro&amp;nbsp;Letture:&amp;n...</td>\n",
       "      <td>''Random Variables and Distributions''</td>\n",
       "    </tr>\n",
       "  </tbody>\n",
       "</table>\n",
       "</div>"
      ],
      "text/plain": [
       "   id             categoria                        corso  id_sezione  \\\n",
       "0   0  Abilità informatiche  Editoria Digitale 2017/2018        1002   \n",
       "1   1  Abilità informatiche  Editoria Digitale 2017/2018        1002   \n",
       "2   2  Abilità informatiche  Editoria Digitale 2017/2018        1002   \n",
       "3   3  Abilità informatiche  Editoria Digitale 2017/2018        1002   \n",
       "4   4  Abilità informatiche  Editoria Digitale 2017/2018        1002   \n",
       "\n",
       "                                             risorsa  \\\n",
       "0                                     Risorse online   \n",
       "1  Lezioni05/10/2017Presentazione del corso, moda...   \n",
       "2  10/10/2017Scenari della nuova editoria&nbsp;Le...   \n",
       "3  12/10/2017Il libro digitale e le sue origini&n...   \n",
       "4  17/10/2017Il mercato del libro&nbsp;Letture:&n...   \n",
       "\n",
       "                                 keywords  \n",
       "0  ''Random Variables and Distributions''  \n",
       "1  ''Random Variables and Distributions''  \n",
       "2  ''Random Variables and Distributions''  \n",
       "3  ''Random Variables and Distributions''  \n",
       "4  ''Random Variables and Distributions''  "
      ]
     },
     "execution_count": 96,
     "metadata": {},
     "output_type": "execute_result"
    }
   ],
   "source": [
    "dataset['id']=list(range(len(dataset_final)))\n",
    "dataset['categoria']=categoria\n",
    "dataset['corso']=corso\n",
    "dataset['id_sezione']=id_sezione\n",
    "dataset['risorsa']=risorsa\n",
    "dataset['keywords']=keywords\n",
    "dataset.head()"
   ]
  },
  {
   "cell_type": "code",
   "execution_count": 97,
   "metadata": {},
   "outputs": [],
   "source": [
    "dataset.to_csv('data_wt.csv', index=False)"
   ]
  },
  {
   "cell_type": "code",
   "execution_count": 107,
   "metadata": {},
   "outputs": [],
   "source": [
    "dataset_risorse = pd.DataFrame(columns=['id','risorsa','keywords'])\n",
    "temp={}\n",
    "for index,row in dataset.iterrows():\n",
    "    #salvo una volta le keywords perche anche se le risorse vengono utilizzate più volte \n",
    "    #le keywords restano le stesse.\n",
    "    temp[row['risorsa']]=row['keywords']\n",
    "\n",
    "dataset_risorse['id']=list(range(len(temp)))\n",
    "dataset_risorse['risorsa']=temp.keys()\n",
    "dataset_risorse['keywords']=temp.values()\n",
    "dataset_risorse.to_csv('dataset_risorse.csv', index=False)\n"
   ]
  }
 ],
 "metadata": {
  "kernelspec": {
   "display_name": "Python 3",
   "language": "python",
   "name": "python3"
  },
  "language_info": {
   "codemirror_mode": {
    "name": "ipython",
    "version": 3
   },
   "file_extension": ".py",
   "mimetype": "text/x-python",
   "name": "python",
   "nbconvert_exporter": "python",
   "pygments_lexer": "ipython3",
   "version": "3.7.3"
  }
 },
 "nbformat": 4,
 "nbformat_minor": 2
}
